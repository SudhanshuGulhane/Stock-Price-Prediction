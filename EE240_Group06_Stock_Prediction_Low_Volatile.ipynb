{
 "cells": [
  {
   "cell_type": "markdown",
   "metadata": {},
   "source": [
    "### Import necessary libraries"
   ]
  },
  {
   "cell_type": "code",
   "execution_count": 13,
   "metadata": {
    "id": "4g7JIKf9ijcB"
   },
   "outputs": [],
   "source": [
    "import pandas as pd\n",
    "import numpy as np\n",
    "import os\n",
    "import seaborn as sns\n",
    "from sklearn.metrics import mean_absolute_error, mean_squared_error"
   ]
  },
  {
   "cell_type": "markdown",
   "metadata": {},
   "source": [
    "### Load csv files (colab or local jupyter notebook)"
   ]
  },
  {
   "cell_type": "code",
   "execution_count": 14,
   "metadata": {
    "colab": {
     "base_uri": "https://localhost:8080/"
    },
    "id": "nx2jgJZwhsee",
    "outputId": "106ef9f4-838e-4600-a1ad-c9d1ca35461b"
   },
   "outputs": [],
   "source": [
    "folder_path = 'stock-price-dataset'\n",
    "\n",
    "csv_files = [f for f in os.listdir(folder_path) if f.endswith('.csv')]"
   ]
  },
  {
   "cell_type": "markdown",
   "metadata": {
    "id": "ToqBGmV1fjPu"
   },
   "source": [
    "### Segmentation of companies stocks into highly volatile, low, and stable nature"
   ]
  },
  {
   "cell_type": "code",
   "execution_count": 15,
   "metadata": {
    "id": "C6aKgiPONL3s"
   },
   "outputs": [],
   "source": [
    "def classify_stocks(file_name):\n",
    "    file_path = os.path.join(folder_path, file_name)\n",
    "    data = pd.read_csv(file_path)\n",
    "    data['Returns'] = data['Close'].pct_change()\n",
    "    data['Annualized Volatility'] = data['Returns'].std() * np.sqrt(252)\n",
    "    return data['Annualized Volatility'].iloc[-1]"
   ]
  },
  {
   "cell_type": "code",
   "execution_count": 16,
   "metadata": {
    "id": "lYnYJmH6PIXE"
   },
   "outputs": [],
   "source": [
    "volatilities = {name: classify_stocks(name) for name in csv_files}\n",
    "\n",
    "vol_df = pd.DataFrame.from_dict(volatilities, orient='index', columns=['Volatility'])"
   ]
  },
  {
   "cell_type": "code",
   "execution_count": 17,
   "metadata": {
    "colab": {
     "base_uri": "https://localhost:8080/",
     "height": 206
    },
    "id": "XMrQLTK2X4y5",
    "outputId": "eb7d9df6-0855-4e60-ffa1-33bcc19fb1d4"
   },
   "outputs": [
    {
     "data": {
      "text/html": [
       "<div>\n",
       "<style scoped>\n",
       "    .dataframe tbody tr th:only-of-type {\n",
       "        vertical-align: middle;\n",
       "    }\n",
       "\n",
       "    .dataframe tbody tr th {\n",
       "        vertical-align: top;\n",
       "    }\n",
       "\n",
       "    .dataframe thead th {\n",
       "        text-align: right;\n",
       "    }\n",
       "</style>\n",
       "<table border=\"1\" class=\"dataframe\">\n",
       "  <thead>\n",
       "    <tr style=\"text-align: right;\">\n",
       "      <th></th>\n",
       "      <th>Volatility</th>\n",
       "    </tr>\n",
       "  </thead>\n",
       "  <tbody>\n",
       "    <tr>\n",
       "      <th>A.csv</th>\n",
       "      <td>0.418952</td>\n",
       "    </tr>\n",
       "    <tr>\n",
       "      <th>AAL.csv</th>\n",
       "      <td>0.665843</td>\n",
       "    </tr>\n",
       "    <tr>\n",
       "      <th>AAPL.csv</th>\n",
       "      <td>0.446056</td>\n",
       "    </tr>\n",
       "    <tr>\n",
       "      <th>ABBV.csv</th>\n",
       "      <td>0.267729</td>\n",
       "    </tr>\n",
       "    <tr>\n",
       "      <th>ABNB.csv</th>\n",
       "      <td>0.544435</td>\n",
       "    </tr>\n",
       "  </tbody>\n",
       "</table>\n",
       "</div>"
      ],
      "text/plain": [
       "          Volatility\n",
       "A.csv       0.418952\n",
       "AAL.csv     0.665843\n",
       "AAPL.csv    0.446056\n",
       "ABBV.csv    0.267729\n",
       "ABNB.csv    0.544435"
      ]
     },
     "execution_count": 17,
     "metadata": {},
     "output_type": "execute_result"
    }
   ],
   "source": [
    "vol_df.head()"
   ]
  },
  {
   "cell_type": "code",
   "execution_count": 18,
   "metadata": {
    "id": "7davJ9QpPwkB"
   },
   "outputs": [],
   "source": [
    "# Thresholds based on percentiles\n",
    "high_vol_threshold = vol_df['Volatility'].quantile(0.75)\n",
    "low_vol_threshold = vol_df['Volatility'].quantile(0.25)\n",
    "\n",
    "# Classify stocks\n",
    "vol_df['Category'] = pd.cut(vol_df['Volatility'], bins=[0, low_vol_threshold, high_vol_threshold, float('inf')], labels=['Low', 'Stable', 'High'])"
   ]
  },
  {
   "cell_type": "code",
   "execution_count": 19,
   "metadata": {
    "colab": {
     "base_uri": "https://localhost:8080/",
     "height": 423
    },
    "id": "9UIyD7dnYDQZ",
    "outputId": "32b3980b-f1e0-4aa5-a1f5-e8767c9fd426"
   },
   "outputs": [
    {
     "data": {
      "text/html": [
       "<div>\n",
       "<style scoped>\n",
       "    .dataframe tbody tr th:only-of-type {\n",
       "        vertical-align: middle;\n",
       "    }\n",
       "\n",
       "    .dataframe tbody tr th {\n",
       "        vertical-align: top;\n",
       "    }\n",
       "\n",
       "    .dataframe thead th {\n",
       "        text-align: right;\n",
       "    }\n",
       "</style>\n",
       "<table border=\"1\" class=\"dataframe\">\n",
       "  <thead>\n",
       "    <tr style=\"text-align: right;\">\n",
       "      <th></th>\n",
       "      <th>Volatility</th>\n",
       "      <th>Category</th>\n",
       "    </tr>\n",
       "  </thead>\n",
       "  <tbody>\n",
       "    <tr>\n",
       "      <th>A.csv</th>\n",
       "      <td>0.418952</td>\n",
       "      <td>Stable</td>\n",
       "    </tr>\n",
       "    <tr>\n",
       "      <th>AAL.csv</th>\n",
       "      <td>0.665843</td>\n",
       "      <td>High</td>\n",
       "    </tr>\n",
       "    <tr>\n",
       "      <th>AAPL.csv</th>\n",
       "      <td>0.446056</td>\n",
       "      <td>High</td>\n",
       "    </tr>\n",
       "    <tr>\n",
       "      <th>ABBV.csv</th>\n",
       "      <td>0.267729</td>\n",
       "      <td>Low</td>\n",
       "    </tr>\n",
       "    <tr>\n",
       "      <th>ABNB.csv</th>\n",
       "      <td>0.544435</td>\n",
       "      <td>High</td>\n",
       "    </tr>\n",
       "    <tr>\n",
       "      <th>...</th>\n",
       "      <td>...</td>\n",
       "      <td>...</td>\n",
       "    </tr>\n",
       "    <tr>\n",
       "      <th>YUM.csv</th>\n",
       "      <td>0.298404</td>\n",
       "      <td>Stable</td>\n",
       "    </tr>\n",
       "    <tr>\n",
       "      <th>ZBH.csv</th>\n",
       "      <td>0.281025</td>\n",
       "      <td>Low</td>\n",
       "    </tr>\n",
       "    <tr>\n",
       "      <th>ZBRA.csv</th>\n",
       "      <td>0.414614</td>\n",
       "      <td>Stable</td>\n",
       "    </tr>\n",
       "    <tr>\n",
       "      <th>ZION.csv</th>\n",
       "      <td>0.385218</td>\n",
       "      <td>Stable</td>\n",
       "    </tr>\n",
       "    <tr>\n",
       "      <th>ZTS.csv</th>\n",
       "      <td>0.254688</td>\n",
       "      <td>Low</td>\n",
       "    </tr>\n",
       "  </tbody>\n",
       "</table>\n",
       "<p>503 rows × 2 columns</p>\n",
       "</div>"
      ],
      "text/plain": [
       "          Volatility Category\n",
       "A.csv       0.418952   Stable\n",
       "AAL.csv     0.665843     High\n",
       "AAPL.csv    0.446056     High\n",
       "ABBV.csv    0.267729      Low\n",
       "ABNB.csv    0.544435     High\n",
       "...              ...      ...\n",
       "YUM.csv     0.298404   Stable\n",
       "ZBH.csv     0.281025      Low\n",
       "ZBRA.csv    0.414614   Stable\n",
       "ZION.csv    0.385218   Stable\n",
       "ZTS.csv     0.254688      Low\n",
       "\n",
       "[503 rows x 2 columns]"
      ]
     },
     "execution_count": 19,
     "metadata": {},
     "output_type": "execute_result"
    }
   ],
   "source": [
    "vol_df"
   ]
  },
  {
   "cell_type": "code",
   "execution_count": 20,
   "metadata": {
    "colab": {
     "base_uri": "https://localhost:8080/",
     "height": 554
    },
    "id": "bVrS8DqsYFBV",
    "outputId": "268bc872-0aba-4b8e-f438-a01728333d35"
   },
   "outputs": [
    {
     "data": {
      "image/png": "[encoded data removed]",
      "text/plain": [
       "<Figure size 720x432 with 1 Axes>"
      ]
     },
     "metadata": {
      "needs_background": "light"
     },
     "output_type": "display_data"
    }
   ],
   "source": [
    "import matplotlib.pyplot as plt\n",
    "\n",
    "# Simulate annualized volatility data for demonstration\n",
    "np.random.seed(0)\n",
    "volatility_data = np.random.normal(loc=0.2, scale=0.05, size=500)  # mean = 20%, std = 5%\n",
    "\n",
    "# Calculate quantiles\n",
    "low_vol_threshold = np.quantile(volatility_data, 0.25)\n",
    "high_vol_threshold = np.quantile(volatility_data, 0.75)\n",
    "\n",
    "# Generate histogram for visualization\n",
    "plt.figure(figsize=(10, 6))\n",
    "plt.hist(volatility_data, bins=30, color='skyblue', alpha=0.7, label='Stock Volatility')\n",
    "plt.axvline(x=low_vol_threshold, color='green', linestyle='--', linewidth=2, label='25th Percentile (Low Volatility Threshold)')\n",
    "plt.axvline(x=high_vol_threshold, color='red', linestyle='--', linewidth=2, label='75th Percentile (High Volatility Threshold)')\n",
    "\n",
    "# Annotate regions\n",
    "plt.text(low_vol_threshold - 0.01, 40, 'Low Volatility', horizontalalignment='right', color='green')\n",
    "plt.text((low_vol_threshold + high_vol_threshold)/2, 40, 'Stable Stocks', horizontalalignment='center', color='black')\n",
    "plt.text(high_vol_threshold + 0.01, 40, 'High Volatility', horizontalalignment='left', color='red')\n",
    "\n",
    "plt.xlabel('Annualized Volatility')\n",
    "plt.ylabel('Number of Stocks')\n",
    "plt.legend()\n",
    "plt.show()\n"
   ]
  },
  {
   "cell_type": "markdown",
   "metadata": {
    "id": "sEULm3nPfsU2"
   },
   "source": [
    "### Correlation Analysis"
   ]
  },
  {
   "cell_type": "code",
   "execution_count": 21,
   "metadata": {
    "colab": {
     "base_uri": "https://localhost:8080/",
     "height": 803
    },
    "id": "edJRZKmTZKEx",
    "outputId": "8c3156fa-8d6d-46a8-8c79-b4c402fa28d5",
    "scrolled": true
   },
   "outputs": [
    {
     "name": "stdout",
     "output_type": "stream",
     "text": [
      "            Open      High       Low    Volume     Close\n",
      "Open    1.000000  0.999785  0.999794 -0.380518  0.999619\n",
      "High    0.999785  1.000000  0.999656 -0.377726  0.999814\n",
      "Low     0.999794  0.999656  1.000000 -0.383628  0.999793\n",
      "Volume -0.380518 -0.377726 -0.383628  1.000000 -0.380834\n",
      "Close   0.999619  0.999814  0.999793 -0.380834  1.000000\n"
     ]
    },
    {
     "data": {
      "image/png": "[encoded data removed]",
      "text/plain": [
       "<Figure size 720x576 with 2 Axes>"
      ]
     },
     "metadata": {
      "needs_background": "light"
     },
     "output_type": "display_data"
    }
   ],
   "source": [
    "file_path = os.path.join(folder_path, csv_files[0])\n",
    "data = pd.read_csv(file_path)\n",
    "\n",
    "# Calculate correlation matrix\n",
    "correlation_matrix = data[['Open', 'High', 'Low', 'Volume', 'Close']].corr()\n",
    "\n",
    "# Display the correlation matrix\n",
    "print(correlation_matrix)\n",
    "\n",
    "# Visualize the correlation matrix using a heatmap\n",
    "plt.figure(figsize=(10, 8))\n",
    "sns.heatmap(correlation_matrix, annot=True, cmap='coolwarm', fmt=\".2f\", linewidths=.5)\n",
    "plt.title('Correlation Matrix')\n",
    "plt.show()\n"
   ]
  },
  {
   "cell_type": "markdown",
   "metadata": {
    "id": "jWYEhE52kLge"
   },
   "source": [
    "### Dataset Preparation for the LSTM network"
   ]
  },
  {
   "cell_type": "code",
   "execution_count": 22,
   "metadata": {
    "id": "G13xaBpMks8f"
   },
   "outputs": [],
   "source": [
    "import pandas_ta as ta\n",
    "from sklearn.preprocessing import MinMaxScaler"
   ]
  },
  {
   "cell_type": "markdown",
   "metadata": {},
   "source": [
    "### Generate sequenced data"
   ]
  },
  {
   "cell_type": "code",
   "execution_count": 113,
   "metadata": {
    "id": "doL6YLKHCNE8"
   },
   "outputs": [],
   "source": [
    "def prepare_lstm_data(data, window_size):\n",
    "    X, y = [], []\n",
    "    feature_indices = list(range(0, data.shape[1] - 1))\n",
    "    for i in range(len(data) - window_size):\n",
    "        X.append(data[i:i + window_size, feature_indices])\n",
    "        y.append(data[i + window_size, -1])\n",
    "    return np.array(X), np.array(y)"
   ]
  },
  {
   "cell_type": "code",
   "execution_count": 114,
   "metadata": {
    "id": "gxaFmOx-H066"
   },
   "outputs": [],
   "source": [
    "scaler = MinMaxScaler()"
   ]
  },
  {
   "cell_type": "markdown",
   "metadata": {},
   "source": [
    "### Adding technical indicators useful for more accurate stock prediction"
   ]
  },
  {
   "cell_type": "code",
   "execution_count": 115,
   "metadata": {
    "id": "weE8yg6KHN2s"
   },
   "outputs": [],
   "source": [
    "def prepare_category_data(category_files, window_size=30):\n",
    "    company_data = []\n",
    "    for file_name in category_files:\n",
    "        file_path = os.path.join(folder_path, file_name)\n",
    "        data = pd.read_csv(file_path)\n",
    "        \n",
    "        # Adding technical indicators\n",
    "        data['RSI'] = ta.rsi(data.Close, length=15)\n",
    "        data['EMAF'] = ta.ema(data.Close, length=20)\n",
    "        data['EMAM'] = ta.ema(data.Close, length=100)\n",
    "        data['EMAS'] = ta.ema(data.Close, length=150)\n",
    "\n",
    "        # Adding target column\n",
    "        data['TargetNextClose'] = data['Close'].shift(-1)\n",
    "\n",
    "        data.dropna(inplace=True)\n",
    "        data.drop(['Date', 'Volume', 'Dividends', 'Stock Splits'], axis=1, inplace=True)\n",
    "        \n",
    "        if(data.size>0):\n",
    "            scaled_data = scaler.fit_transform(data)\n",
    "            X, y = prepare_lstm_data(scaled_data, window_size)\n",
    "            company_data.append((X, y))\n",
    "    \n",
    "    return company_data\n"
   ]
  },
  {
   "cell_type": "code",
   "execution_count": 116,
   "metadata": {
    "colab": {
     "base_uri": "https://localhost:8080/",
     "height": 206
    },
    "id": "_i0lyK7IHN57",
    "outputId": "3e72075d-1656-4cf8-a75b-8dafd6abc7d2"
   },
   "outputs": [
    {
     "data": {
      "text/html": [
       "<div>\n",
       "<style scoped>\n",
       "    .dataframe tbody tr th:only-of-type {\n",
       "        vertical-align: middle;\n",
       "    }\n",
       "\n",
       "    .dataframe tbody tr th {\n",
       "        vertical-align: top;\n",
       "    }\n",
       "\n",
       "    .dataframe thead th {\n",
       "        text-align: right;\n",
       "    }\n",
       "</style>\n",
       "<table border=\"1\" class=\"dataframe\">\n",
       "  <thead>\n",
       "    <tr style=\"text-align: right;\">\n",
       "      <th></th>\n",
       "      <th>Volatility</th>\n",
       "      <th>Category</th>\n",
       "    </tr>\n",
       "  </thead>\n",
       "  <tbody>\n",
       "    <tr>\n",
       "      <th>ABBV.csv</th>\n",
       "      <td>0.267729</td>\n",
       "      <td>Low</td>\n",
       "    </tr>\n",
       "    <tr>\n",
       "      <th>ABT.csv</th>\n",
       "      <td>0.255564</td>\n",
       "      <td>Low</td>\n",
       "    </tr>\n",
       "    <tr>\n",
       "      <th>ADP.csv</th>\n",
       "      <td>0.262748</td>\n",
       "      <td>Low</td>\n",
       "    </tr>\n",
       "    <tr>\n",
       "      <th>AEE.csv</th>\n",
       "      <td>0.216175</td>\n",
       "      <td>Low</td>\n",
       "    </tr>\n",
       "    <tr>\n",
       "      <th>AEP.csv</th>\n",
       "      <td>0.208099</td>\n",
       "      <td>Low</td>\n",
       "    </tr>\n",
       "  </tbody>\n",
       "</table>\n",
       "</div>"
      ],
      "text/plain": [
       "          Volatility Category\n",
       "ABBV.csv    0.267729      Low\n",
       "ABT.csv     0.255564      Low\n",
       "ADP.csv     0.262748      Low\n",
       "AEE.csv     0.216175      Low\n",
       "AEP.csv     0.208099      Low"
      ]
     },
     "execution_count": 116,
     "metadata": {},
     "output_type": "execute_result"
    }
   ],
   "source": [
    "low_vol_files = vol_df[vol_df['Category'] == 'Low'].index.tolist()\n",
    "stable_files = vol_df[vol_df['Category'] == 'Stable'].index.tolist()\n",
    "high_vol_files = vol_df[vol_df['Category'] == 'High'].index.tolist()\n",
    "vol_df[vol_df['Category']=='Low'].head()"
   ]
  },
  {
   "cell_type": "code",
   "execution_count": 117,
   "metadata": {
    "id": "_TtE3W3RHN8e"
   },
   "outputs": [],
   "source": [
    "company_data_low = prepare_category_data(low_vol_files, window_size=30)\n",
    "company_data_stable = prepare_category_data(stable_files, window_size=30)\n",
    "company_data_high = prepare_category_data(high_vol_files, window_size=30)"
   ]
  },
  {
   "cell_type": "code",
   "execution_count": 118,
   "metadata": {
    "colab": {
     "base_uri": "https://localhost:8080/"
    },
    "id": "4H4omhoyNmjy",
    "outputId": "d8aba5fd-b3c9-47a2-809e-21dc66a0cf15"
   },
   "outputs": [
    {
     "name": "stdout",
     "output_type": "stream",
     "text": [
      "Low Volatility Data: size=125\n",
      "Stable Volatility Data: size=251\n",
      "High Volatility Data: size=126\n"
     ]
    }
   ],
   "source": [
    "print(f\"Low Volatility Data: size={len(company_data_low)}\")\n",
    "print(f\"Stable Volatility Data: size={len(company_data_stable)}\")\n",
    "print(f\"High Volatility Data: size={len(company_data_high)}\")"
   ]
  },
  {
   "cell_type": "markdown",
   "metadata": {},
   "source": [
    "### Building LSTM network"
   ]
  },
  {
   "cell_type": "code",
   "execution_count": 120,
   "metadata": {
    "id": "KgMQ-3oHlpS_"
   },
   "outputs": [],
   "source": [
    "import torch\n",
    "import torch.nn as nn\n",
    "from torch.utils.data import DataLoader, TensorDataset, random_split\n",
    "from sklearn.metrics import mean_squared_error\n",
    "import numpy as np\n",
    "import os"
   ]
  },
  {
   "cell_type": "markdown",
   "metadata": {},
   "source": [
    "### Using Cuda 10.1 and torch 1.8.1+cu101 version for training"
   ]
  },
  {
   "cell_type": "code",
   "execution_count": 121,
   "metadata": {},
   "outputs": [
    {
     "name": "stdout",
     "output_type": "stream",
     "text": [
      "cuda\n"
     ]
    }
   ],
   "source": [
    "device = 'cuda' if torch.cuda.is_available() else 'cpu'\n",
    "print(device)"
   ]
  },
  {
   "cell_type": "markdown",
   "metadata": {},
   "source": [
    "### Hyperparameters of the model"
   ]
  },
  {
   "cell_type": "code",
   "execution_count": 200,
   "metadata": {
    "id": "lpmETKeUZwmR"
   },
   "outputs": [],
   "source": [
    "input_dim = 8\n",
    "hidden_dim = 64\n",
    "output_dim = 1\n",
    "num_layers = 2\n",
    "dropout = 0.5\n",
    "batch_size = 32\n",
    "num_epochs = 50\n",
    "learning_rate = 0.001"
   ]
  },
  {
   "cell_type": "markdown",
   "metadata": {},
   "source": [
    "### Split the data into train and test"
   ]
  },
  {
   "cell_type": "code",
   "execution_count": 201,
   "metadata": {
    "id": "MX_y9sPNZun9"
   },
   "outputs": [],
   "source": [
    "def create_company_dataloaders(company_data, batch_size, train_split=0.7):\n",
    "    train_loaders = []\n",
    "    test_loaders = []\n",
    "\n",
    "    for X, y in company_data:\n",
    "        dataset_size = len(X)\n",
    "        train_size = int(train_split * dataset_size)\n",
    "        test_size = dataset_size - train_size\n",
    "\n",
    "        X_train, X_test = X[:train_size], X[train_size:]\n",
    "        y_train, y_test = y[:train_size], y[train_size:]\n",
    "\n",
    "        train_dataset = TensorDataset(torch.tensor(X_train, dtype=torch.float32), torch.tensor(y_train, dtype=torch.float32))\n",
    "        test_dataset = TensorDataset(torch.tensor(X_test, dtype=torch.float32), torch.tensor(y_test, dtype=torch.float32))\n",
    "\n",
    "        train_loader = DataLoader(train_dataset, batch_size=batch_size, shuffle=True)\n",
    "        test_loader = DataLoader(test_dataset, batch_size=batch_size, shuffle=False)\n",
    "        \n",
    "        train_loaders.append(train_loader)\n",
    "        test_loaders.append(test_loader)\n",
    "    \n",
    "    return train_loaders, test_loaders"
   ]
  },
  {
   "cell_type": "code",
   "execution_count": 202,
   "metadata": {
    "id": "ZKbjL9t1aESl"
   },
   "outputs": [],
   "source": [
    "train_loaders_low, test_loaders_low = create_company_dataloaders(company_data_low, batch_size)\n",
    "train_loaders_stable, test_loaders_stable = create_company_dataloaders(company_data_stable, batch_size)\n",
    "train_loaders_high, test_loaders_high = create_company_dataloaders(company_data_high, batch_size)"
   ]
  },
  {
   "cell_type": "markdown",
   "metadata": {},
   "source": [
    "### LSTM Model Architecture"
   ]
  },
  {
   "cell_type": "code",
   "execution_count": 203,
   "metadata": {
    "id": "HAg6R3-eDezI"
   },
   "outputs": [],
   "source": [
    "class StockLSTM(nn.Module):\n",
    "    def __init__(self, input_dim, hidden_dim, output_dim, num_layers, dropout):\n",
    "        super(StockLSTM, self).__init__()\n",
    "        self.hidden_dim = hidden_dim\n",
    "        self.num_layers = num_layers\n",
    "        self.lstm = nn.LSTM(input_dim, hidden_dim, num_layers, batch_first=True, dropout=dropout)\n",
    "        self.fc = nn.Linear(hidden_dim, output_dim)\n",
    "\n",
    "    def forward(self, x):\n",
    "        h0 = torch.zeros(self.num_layers, x.size(0), self.hidden_dim).to(x.device)\n",
    "        c0 = torch.zeros(self.num_layers, x.size(0), self.hidden_dim).to(x.device)\n",
    "        out, _ = self.lstm(x, (h0, c0))\n",
    "        out = self.fc(out[:, -1, :])\n",
    "        return out"
   ]
  },
  {
   "cell_type": "code",
   "execution_count": 204,
   "metadata": {
    "colab": {
     "base_uri": "https://localhost:8080/"
    },
    "id": "5MNr0AbsZzQW",
    "outputId": "f814a717-08c5-4a22-b506-4e4f8d84bc8b"
   },
   "outputs": [],
   "source": [
    "model = StockLSTM(input_dim, hidden_dim, output_dim, num_layers, dropout).to(device)\n",
    "criterion = nn.MSELoss()\n",
    "optimizer = torch.optim.AdamW(model.parameters(), lr=learning_rate, weight_decay=1e-5)\n",
    "scheduler = torch.optim.lr_scheduler.ReduceLROnPlateau(optimizer, mode='min', factor=0.5, patience=5, verbose=True)"
   ]
  },
  {
   "cell_type": "markdown",
   "metadata": {},
   "source": [
    "### Evaluator function (testing of the model)"
   ]
  },
  {
   "cell_type": "code",
   "execution_count": 205,
   "metadata": {},
   "outputs": [],
   "source": [
    "# Evaluate the model\n",
    "def evaluate_model(model, test_loaders, criterion, tolerance):\n",
    "    model.eval()\n",
    "    test_loss = 0\n",
    "    test_correct = 0\n",
    "    test_total = 0\n",
    "    predictions, actuals = [], []\n",
    "        \n",
    "    with torch.no_grad():\n",
    "        for test_loader in test_loaders:\n",
    "            for X_batch, y_batch in test_loader:\n",
    "                X_batch, y_batch = X_batch.to(device), y_batch.to(device)\n",
    "                outputs = model(X_batch)\n",
    "                loss = criterion(outputs, y_batch.unsqueeze(1))\n",
    "                test_loss += loss.item()\n",
    "\n",
    "                # Calculate test accuracy\n",
    "                test_total += y_batch.size(0)\n",
    "                test_correct += (torch.abs(outputs - y_batch.unsqueeze(1)) < tolerance).sum().item()\n",
    "                \n",
    "                predictions.append(outputs.cpu().numpy())\n",
    "                actuals.append(y_batch.cpu().numpy())\n",
    "    \n",
    "    test_loss /= sum(len(loader.dataset) for loader in test_loaders)\n",
    "    test_accuracy = 100 * test_correct / test_total\n",
    "    predictions = np.concatenate(predictions)\n",
    "    actuals = np.concatenate(actuals)\n",
    "    mse = mean_squared_error(actuals, predictions)\n",
    "    mae = mean_absolute_error(actuals, predictions)\n",
    "    rmse = np.sqrt(mse)\n",
    "    return test_loss, test_accuracy, mae, mse, rmse, predictions, actuals\n"
   ]
  },
  {
   "cell_type": "markdown",
   "metadata": {},
   "source": [
    "### Training function (train the model)"
   ]
  },
  {
   "cell_type": "code",
   "execution_count": 206,
   "metadata": {},
   "outputs": [],
   "source": [
    "# Train the model\n",
    "def train_model(model, train_loaders, test_loaders, criterion, optimizer, scheduler, num_epochs, patience=5, tolerance=0.01):\n",
    "    model.train()\n",
    "    best_loss = float('inf')\n",
    "    epochs_no_improve = 0\n",
    "    train_losses = []\n",
    "    test_losses = []\n",
    "    train_accuracies = []\n",
    "    test_accuracies = []\n",
    "\n",
    "    for epoch in range(num_epochs):\n",
    "        train_loss = 0.0\n",
    "        train_correct = 0\n",
    "        train_total = 0\n",
    "        \n",
    "        for train_loader in train_loaders:\n",
    "            model.train()\n",
    "            for X_batch, y_batch in train_loader:\n",
    "                X_batch, y_batch = X_batch.to(device), y_batch.to(device)\n",
    "                outputs = model(X_batch)\n",
    "                loss = criterion(outputs, y_batch.unsqueeze(1))\n",
    "                optimizer.zero_grad()\n",
    "                loss.backward()\n",
    "                optimizer.step()\n",
    "                train_loss += loss.item()\n",
    "\n",
    "                # Calculate train accuracy\n",
    "                train_total += y_batch.size(0)\n",
    "                train_correct += (torch.abs(outputs - y_batch.unsqueeze(1)) < tolerance).sum().item()\n",
    "        \n",
    "        train_loss /= len(train_loader)\n",
    "        train_accuracy = 100 * train_correct / train_total\n",
    "        \n",
    "        test_loss, test_accuracy, mae, mse, rmse, _, _ = evaluate_model(model, test_loaders, criterion, 0.1)\n",
    "        \n",
    "        train_losses.append(train_loss)\n",
    "        test_losses.append(test_loss)\n",
    "        train_accuracies.append(train_accuracy)\n",
    "        test_accuracies.append(test_accuracy)\n",
    "        \n",
    "        print(f'Epoch {epoch+1}/{num_epochs}, Train Loss: {train_loss}, Train Accuracy: {train_accuracy:.2f}%, Test Loss: {test_loss}, Test Accuracy: {test_accuracy:.2f}%')\n",
    "        print(f'MAE: {mae}, MSE: {mse}, RMSE: {rmse}')\n",
    "        \n",
    "        scheduler.step(test_loss)\n",
    "\n",
    "        # Early stopping\n",
    "        if test_loss < best_loss:\n",
    "            best_loss = test_loss\n",
    "            epochs_no_improve = 0\n",
    "            torch.save(model.state_dict(), 'best_model.pth')\n",
    "        else:\n",
    "            epochs_no_improve += 1\n",
    "            if epochs_no_improve >= patience:\n",
    "                print(f'Early stopping at epoch {epoch+1}')\n",
    "                break\n",
    "    return train_losses, test_losses, train_accuracies, test_accuracies\n"
   ]
  },
  {
   "cell_type": "code",
   "execution_count": 207,
   "metadata": {},
   "outputs": [],
   "source": [
    "def train_and_save_model(train_loader, test_loader, model, criterion, optimizer, scheduler, num_epochs, file_path):\n",
    "    print(f\"Training model on {file_path.split('/')[-1].split('_')[0]} volatility data...\")\n",
    "    train_losses, test_losses, train_accuracies, test_accuracies = train_model(model, train_loader, test_loader, criterion, optimizer, scheduler, num_epochs)\n",
    "    print(f\"Evaluating model on {file_path.split('/')[-1].split('_')[0]} volatility data...\")\n",
    "    test_loss, test_accuracy, mae, mse, rmse, predictions, actuals = evaluate_model(model, test_loader, criterion, 0.1)\n",
    "    print(f\"Test Loss: {test_loss}, Test Accuracy: {test_accuracy:.2f}%\")\n",
    "    return predictions, actuals, train_losses, test_losses, train_accuracies, test_accuracies\n"
   ]
  },
  {
   "cell_type": "markdown",
   "metadata": {},
   "source": [
    "### Low volatile data predictions"
   ]
  },
  {
   "cell_type": "code",
   "execution_count": 208,
   "metadata": {
    "scrolled": true
   },
   "outputs": [
    {
     "name": "stdout",
     "output_type": "stream",
     "text": [
      "Training model on low volatility data...\n",
      "Epoch 1/50, Train Loss: 0.03515346954396586, Train Accuracy: 91.98%, Test Loss: 0.0001273844554079491, Test Accuracy: 86.14%\n",
      "MAE: 0.035238537937402725, MSE: 0.004007434938102961, RMSE: 0.06330430507659912\n",
      "Epoch 2/50, Train Loss: 0.019007601356485732, Train Accuracy: 94.61%, Test Loss: 7.610713265447728e-05, Test Accuracy: 91.25%\n",
      "MAE: 0.026734057813882828, MSE: 0.002391540678218007, RMSE: 0.04890337958931923\n",
      "Epoch 3/50, Train Loss: 0.016153203604928574, Train Accuracy: 95.19%, Test Loss: 7.041816046593068e-05, Test Accuracy: 91.90%\n",
      "MAE: 0.02628820389509201, MSE: 0.002214194042608142, RMSE: 0.04705522209405899\n",
      "Epoch 4/50, Train Loss: 0.015220039809812584, Train Accuracy: 95.46%, Test Loss: 4.4726391548544535e-05, Test Accuracy: 96.37%\n",
      "MAE: 0.026026969775557518, MSE: 0.0014072067569941282, RMSE: 0.037512753158807755\n",
      "Epoch 5/50, Train Loss: 0.013816173393329644, Train Accuracy: 95.83%, Test Loss: 4.721126820075196e-05, Test Accuracy: 97.95%\n",
      "MAE: 0.026441575959324837, MSE: 0.001491280272603035, RMSE: 0.0386170968413353\n",
      "Epoch 6/50, Train Loss: 0.013669610018173179, Train Accuracy: 95.91%, Test Loss: 4.271096883989343e-05, Test Accuracy: 98.50%\n",
      "MAE: 0.0254221111536026, MSE: 0.001354039879515767, RMSE: 0.036797281354665756\n",
      "Epoch 7/50, Train Loss: 0.01258366894228583, Train Accuracy: 96.16%, Test Loss: 5.3082725377714306e-05, Test Accuracy: 97.20%\n",
      "MAE: 0.028987089172005653, MSE: 0.0016873815329745412, RMSE: 0.04107775166630745\n",
      "Epoch 8/50, Train Loss: 0.012282858347603629, Train Accuracy: 96.30%, Test Loss: 8.320265566304707e-05, Test Accuracy: 92.10%\n",
      "MAE: 0.036834727972745895, MSE: 0.0026450969744473696, RMSE: 0.05143050476908684\n",
      "Epoch 9/50, Train Loss: 0.0120680022363046, Train Accuracy: 96.38%, Test Loss: 0.00010379758816779467, Test Accuracy: 88.61%\n",
      "MAE: 0.04152307286858559, MSE: 0.003299339208751917, RMSE: 0.05743987485766411\n",
      "Epoch 10/50, Train Loss: 0.011749161231482898, Train Accuracy: 96.44%, Test Loss: 9.741804172646917e-05, Test Accuracy: 88.65%\n",
      "MAE: 0.03990129753947258, MSE: 0.003111425554379821, RMSE: 0.05578015372157097\n",
      "Epoch 11/50, Train Loss: 0.011832055755831265, Train Accuracy: 96.47%, Test Loss: 0.00014588989251340087, Test Accuracy: 81.19%\n",
      "MAE: 0.05069613829255104, MSE: 0.004653420299291611, RMSE: 0.0682159811258316\n",
      "Early stopping at epoch 11\n",
      "Evaluating model on low volatility data...\n",
      "Test Loss: 0.00014588989251340087, Test Accuracy: 81.19%\n"
     ]
    }
   ],
   "source": [
    "predictions_low, actuals_low, train_losses, test_losses, train_accuracies, test_accuracies = train_and_save_model(train_loaders_low, test_loaders_low, model, criterion, optimizer, scheduler, num_epochs, 'low_volatility_model.pth')"
   ]
  },
  {
   "cell_type": "code",
   "execution_count": 209,
   "metadata": {},
   "outputs": [
    {
     "data": {
      "image/png": "[encoded data removed]",
      "text/plain": [
       "<Figure size 864x432 with 2 Axes>"
      ]
     },
     "metadata": {
      "needs_background": "light"
     },
     "output_type": "display_data"
    }
   ],
   "source": [
    "plt.figure(figsize=(12, 6))\n",
    "plt.subplot(2, 1, 1)\n",
    "plt.plot(train_losses, label='Train Loss')\n",
    "plt.plot(test_losses, label='Test Loss')\n",
    "plt.title('Loss over Epochs for low volatility')\n",
    "plt.xlabel('Epoch')\n",
    "plt.ylabel('Loss')\n",
    "plt.legend()\n",
    "\n",
    "plt.subplot(2, 1, 2)\n",
    "plt.plot(train_accuracies, label='Train Accuracy')\n",
    "plt.plot(test_accuracies, label='Test Accuracy')\n",
    "plt.title('Accuracy over Epochs for low volatility')\n",
    "plt.xlabel('Epoch')\n",
    "plt.ylabel('Accuracy (%)')\n",
    "plt.legend()\n",
    "\n",
    "plt.tight_layout()\n",
    "plt.show()"
   ]
  },
  {
   "cell_type": "code",
   "execution_count": 229,
   "metadata": {},
   "outputs": [
    {
     "data": {
      "image/png": "[encoded data removed]",
      "text/plain": [
       "<Figure size 864x432 with 1 Axes>"
      ]
     },
     "metadata": {
      "needs_background": "light"
     },
     "output_type": "display_data"
    }
   ],
   "source": [
    "def plot_predictions(predictions, actuals, title, num_samples=1000):\n",
    "    plt.figure(figsize=(12, 6))\n",
    "    \n",
    "    subset_index = min(num_samples, len(predictions))\n",
    "    predictions_subset = predictions[:subset_index]\n",
    "    actuals_subset = actuals[:subset_index]\n",
    "    \n",
    "    plt.plot(actuals_subset, label='Actual Prices', color='b', marker='o', linestyle='-', markersize=2, alpha=0.6)\n",
    "    plt.plot(predictions_subset, label='Predicted Prices', color='r', marker='x', linestyle='-', markersize=2, alpha=0.6)\n",
    "    \n",
    "    plt.title(title)\n",
    "    plt.xlabel('TimeLine Intervals')\n",
    "    plt.ylabel('Scaled Prices')\n",
    "    plt.legend()\n",
    "    plt.grid(True)\n",
    "    plt.tight_layout()\n",
    "    plt.show()\n",
    "\n",
    "plot_predictions(predictions_low, actuals_low, \"Low Volatility - Predictions vs Actuals\", num_samples=1000)\n"
   ]
  },
  {
   "cell_type": "code",
   "execution_count": 231,
   "metadata": {},
   "outputs": [],
   "source": [
    "model.load_state_dict(torch.load('best_model.pth'))"
   ]
  },
  {
   "cell_type": "code",
   "execution_count": 211,
   "metadata": {},
   "outputs": [],
   "source": [
    "def randomEvaluator(test_loader):\n",
    "    model.eval()\n",
    "    X_new, y_true = next(iter(test_loader))\n",
    "    X_new = X_new[0].unsqueeze(0).to(device)\n",
    "    y_true = y_true[0].unsqueeze(0).cpu().numpy()\n",
    "    \n",
    "    # Make predictions\n",
    "    with torch.no_grad():\n",
    "        predictions = model(X_new)\n",
    "        \n",
    "    predictions = predictions.cpu().numpy()\n",
    "    print(f\"Predictions: {predictions[0]}\")\n",
    "    print(f\"True Values: {y_true}\")"
   ]
  },
  {
   "cell_type": "code",
   "execution_count": 232,
   "metadata": {},
   "outputs": [],
   "source": [
    "randomEvaluator(test_loaders_low[0])"
   ]
  },
  {
   "cell_type": "markdown",
   "metadata": {},
   "source": [
    "### Stable volatile data prediction"
   ]
  },
  {
   "cell_type": "code",
   "execution_count": null,
   "metadata": {},
   "outputs": [],
   "source": [
    "# predictions_stable, actuals_stable, train_losses, test_losses, train_accuracies, test_accuracies = train_and_save_model(train_loader_stable, test_loader_stable, model, criterion, optimizer, scheduler, num_epochs, 'stable_volatility_model.pth')"
   ]
  },
  {
   "cell_type": "code",
   "execution_count": null,
   "metadata": {},
   "outputs": [],
   "source": [
    "# model.load_state_dict(torch.load('best_model.pth'))"
   ]
  },
  {
   "cell_type": "markdown",
   "metadata": {},
   "source": [
    "### High Stable predictions"
   ]
  },
  {
   "cell_type": "code",
   "execution_count": null,
   "metadata": {},
   "outputs": [],
   "source": [
    "# predictions_high, actuals_high, train_losses, test_losses, train_accuracies, test_accuracies = train_and_save_model(train_loader_high, test_loader_high, model, criterion, optimizer, scheduler, num_epochs, 'high_volatility_model.pth')"
   ]
  },
  {
   "cell_type": "code",
   "execution_count": null,
   "metadata": {},
   "outputs": [],
   "source": []
  }
 ],
 "metadata": {
  "colab": {
   "provenance": []
  },
  "kernelspec": {
   "display_name": "Python 3 (ipykernel)",
   "language": "python",
   "name": "python3"
  },
  "language_info": {
   "codemirror_mode": {
    "name": "ipython",
    "version": 3
   },
   "file_extension": ".py",
   "mimetype": "text/x-python",
   "name": "python",
   "nbconvert_exporter": "python",
   "pygments_lexer": "ipython3",
   "version": "3.9.7"
  }
 },
 "nbformat": 4,
 "nbformat_minor": 4
}
